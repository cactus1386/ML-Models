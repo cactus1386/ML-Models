{
 "cells": [
  {
   "cell_type": "code",
   "execution_count": 2,
   "metadata": {},
   "outputs": [
    {
     "name": "stdout",
     "output_type": "stream",
     "text": [
      "\n",
      "image 1/1 h:\\Machine Learning\\ML-Models\\ImageProcessing\\media\\image\\city.jpg: 448x640 18 persons, 2 bicycles, 1 car, 1 backpack, 1 umbrella, 2 handbags, 268.0ms\n",
      "Speed: 5.1ms preprocess, 268.0ms inference, 1.1ms postprocess per image at shape (1, 3, 448, 640)\n",
      "Results saved to \u001b[1mh:\\Machine Learning\\ML-Models\\runs\\detect\\predict3\u001b[0m\n"
     ]
    }
   ],
   "source": [
    "import matplotlib.pyplot as plt\n",
    "from ultralytics import YOLO\n",
    "\n",
    "model = YOLO('./media/models/yolov8n.pt')\n",
    "\n",
    "res = model.predict('./media/image/city.jpg', conf=0.3, save=True)\n",
    "res[0].plot()\n",
    "res[0].show()"
   ]
  },
  {
   "cell_type": "code",
   "execution_count": 8,
   "metadata": {},
   "outputs": [
    {
     "name": "stdout",
     "output_type": "stream",
     "text": [
      "\n",
      "0: 416x640 19 persons, 2 bicycles, 1 car, 1 bench, 1 backpack, 1 umbrella, 3 handbags, 146.0ms\n",
      "Speed: 3.9ms preprocess, 146.0ms inference, 1.0ms postprocess per image at shape (1, 3, 416, 640)\n"
     ]
    },
    {
     "data": {
      "text/plain": [
       "-1"
      ]
     },
     "execution_count": 8,
     "metadata": {},
     "output_type": "execute_result"
    }
   ],
   "source": [
    "from ultralytics import YOLO\n",
    "import matplotlib.pyplot as plt\n",
    "import cv2\n",
    "\n",
    "model = YOLO('./media/models/yolov8n.pt')\n",
    "\n",
    "source = cv2.imread('./media/image/city.jpg')\n",
    "source = cv2.resize(source, (800, 500))\n",
    "results = model(source)\n",
    "\n",
    "for result in results:\n",
    "    boxes = result.boxes\n",
    "    for box in boxes:\n",
    "       cls_id = box.cls.item()\n",
    "       label = model.names.get(cls_id) \n",
    "       if label == 'person':\n",
    "          x1, y1, x2, y2 = map(int, box.xyxy[0])\n",
    "          cv2.rectangle(source, (x1, y1), (x2, y2), (255, 0, 0), 2)\n",
    "          cv2.putText(source, label, (x1, y1 - 5), cv2.FONT_HERSHEY_SIMPLEX, 0.5, (255, 0, 0), 2)\n",
    "\n",
    "cv2.imwrite('./media/image/city_person.jpg', source)\n",
    "cv2.imshow('result', source)\n",
    "cv2.waitKey(0)"
   ]
  },
  {
   "cell_type": "code",
   "execution_count": null,
   "metadata": {},
   "outputs": [],
   "source": []
  }
 ],
 "metadata": {
  "kernelspec": {
   "display_name": "env",
   "language": "python",
   "name": "python3"
  },
  "language_info": {
   "codemirror_mode": {
    "name": "ipython",
    "version": 3
   },
   "file_extension": ".py",
   "mimetype": "text/x-python",
   "name": "python",
   "nbconvert_exporter": "python",
   "pygments_lexer": "ipython3",
   "version": "3.11.4"
  }
 },
 "nbformat": 4,
 "nbformat_minor": 2
}
