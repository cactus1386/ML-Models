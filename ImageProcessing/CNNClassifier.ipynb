{
  "nbformat": 4,
  "nbformat_minor": 0,
  "metadata": {
    "colab": {
      "provenance": [],
      "gpuType": "T4"
    },
    "kernelspec": {
      "name": "python3",
      "display_name": "Python 3"
    },
    "language_info": {
      "name": "python"
    },
    "accelerator": "GPU"
  },
  "cells": [
    {
      "cell_type": "markdown",
      "source": [
        "# Import libraries"
      ],
      "metadata": {
        "id": "APdTe4oPDaNV"
      }
    },
    {
      "cell_type": "code",
      "source": [
        "from torchvision import transforms, datasets\n",
        "import torchvision\n",
        "import torch\n",
        "import torch.nn as nn\n",
        "from PIL import Image\n",
        "from torch.utils.data import Dataset, DataLoader\n",
        "from torchvision.datasets import ImageFolder"
      ],
      "metadata": {
        "id": "mgPtI2NUDZvK"
      },
      "execution_count": 11,
      "outputs": []
    },
    {
      "cell_type": "markdown",
      "source": [
        "# 1. Choose and download dataset"
      ],
      "metadata": {
        "id": "gleMkxoZ-60t"
      }
    },
    {
      "cell_type": "code",
      "source": [
        "from google.colab import drive\n",
        "drive.mount('/content/drive')"
      ],
      "metadata": {
        "colab": {
          "base_uri": "https://localhost:8080/"
        },
        "id": "RyG9AtOf-zV8",
        "outputId": "0fb10b0a-9c3b-45c3-915c-1ca9cf280296"
      },
      "execution_count": 2,
      "outputs": [
        {
          "output_type": "stream",
          "name": "stdout",
          "text": [
            "Drive already mounted at /content/drive; to attempt to forcibly remount, call drive.mount(\"/content/drive\", force_remount=True).\n"
          ]
        }
      ]
    },
    {
      "cell_type": "code",
      "source": [
        "import kagglehub\n",
        "\n",
        "data = kagglehub.dataset_download(\"gpiosenka/cards-image-datasetclassification\")\n",
        "\n",
        "print(\"Path to dataset files:\", data)"
      ],
      "metadata": {
        "colab": {
          "base_uri": "https://localhost:8080/"
        },
        "id": "9O-KkPxhAcwQ",
        "outputId": "2fe9d008-91ea-426e-b9cc-ac2c1135c8c9"
      },
      "execution_count": 5,
      "outputs": [
        {
          "output_type": "stream",
          "name": "stdout",
          "text": [
            "Path to dataset files: /kaggle/input/cards-image-datasetclassification\n"
          ]
        }
      ]
    },
    {
      "cell_type": "markdown",
      "source": [
        "# 2. Dataset preproccessing"
      ],
      "metadata": {
        "id": "kiCbfvEEFYld"
      }
    },
    {
      "cell_type": "code",
      "source": [
        "transform = transforms.Compose([\n",
        "    transforms.Resize((128, 128)),\n",
        "    transforms.RandomHorizontalFlip(p=0.3),\n",
        "    transforms.ToTensor(),\n",
        "    transforms.Normalize((0.5,) , (0.5,))\n",
        "])"
      ],
      "metadata": {
        "id": "cx62UfP9Bivm"
      },
      "execution_count": 4,
      "outputs": []
    },
    {
      "cell_type": "code",
      "source": [
        "train_path = '/kaggle/input/cards-image-datasetclassification/train'\n",
        "test_path = \"/kaggle/input/cards-image-datasetclassification/test\""
      ],
      "metadata": {
        "id": "YIQw57d91Qcd"
      },
      "execution_count": 6,
      "outputs": []
    },
    {
      "cell_type": "code",
      "source": [
        "train = ImageFolder(train_path, transform=transform)\n",
        "test = ImageFolder(test_path, transform=transform)\n",
        "classes = train.classes\n",
        "classes"
      ],
      "metadata": {
        "colab": {
          "base_uri": "https://localhost:8080/"
        },
        "collapsed": true,
        "id": "iFNnMco41ryu",
        "outputId": "2212cb1a-69e7-4cab-d876-2ecc872ec945"
      },
      "execution_count": 7,
      "outputs": [
        {
          "output_type": "execute_result",
          "data": {
            "text/plain": [
              "['ace of clubs',\n",
              " 'ace of diamonds',\n",
              " 'ace of hearts',\n",
              " 'ace of spades',\n",
              " 'eight of clubs',\n",
              " 'eight of diamonds',\n",
              " 'eight of hearts',\n",
              " 'eight of spades',\n",
              " 'five of clubs',\n",
              " 'five of diamonds',\n",
              " 'five of hearts',\n",
              " 'five of spades',\n",
              " 'four of clubs',\n",
              " 'four of diamonds',\n",
              " 'four of hearts',\n",
              " 'four of spades',\n",
              " 'jack of clubs',\n",
              " 'jack of diamonds',\n",
              " 'jack of hearts',\n",
              " 'jack of spades',\n",
              " 'joker',\n",
              " 'king of clubs',\n",
              " 'king of diamonds',\n",
              " 'king of hearts',\n",
              " 'king of spades',\n",
              " 'nine of clubs',\n",
              " 'nine of diamonds',\n",
              " 'nine of hearts',\n",
              " 'nine of spades',\n",
              " 'queen of clubs',\n",
              " 'queen of diamonds',\n",
              " 'queen of hearts',\n",
              " 'queen of spades',\n",
              " 'seven of clubs',\n",
              " 'seven of diamonds',\n",
              " 'seven of hearts',\n",
              " 'seven of spades',\n",
              " 'six of clubs',\n",
              " 'six of diamonds',\n",
              " 'six of hearts',\n",
              " 'six of spades',\n",
              " 'ten of clubs',\n",
              " 'ten of diamonds',\n",
              " 'ten of hearts',\n",
              " 'ten of spades',\n",
              " 'three of clubs',\n",
              " 'three of diamonds',\n",
              " 'three of hearts',\n",
              " 'three of spades',\n",
              " 'two of clubs',\n",
              " 'two of diamonds',\n",
              " 'two of hearts',\n",
              " 'two of spades']"
            ]
          },
          "metadata": {},
          "execution_count": 7
        }
      ]
    },
    {
      "cell_type": "code",
      "source": [
        "train_loader = DataLoader(train, batch_size=32, shuffle=True)\n",
        "test_loader = DataLoader(test, batch_size=32, shuffle=False)\n",
        "for img, label in train_loader:\n",
        "    break\n",
        "img.shape"
      ],
      "metadata": {
        "colab": {
          "base_uri": "https://localhost:8080/"
        },
        "id": "FycJ5U982gqE",
        "outputId": "918f0a7e-6c9e-4cea-89e4-2e67e113c4c4"
      },
      "execution_count": 9,
      "outputs": [
        {
          "output_type": "execute_result",
          "data": {
            "text/plain": [
              "torch.Size([32, 3, 128, 128])"
            ]
          },
          "metadata": {},
          "execution_count": 9
        }
      ]
    },
    {
      "cell_type": "markdown",
      "source": [
        "# 3. Create Neural Network"
      ],
      "metadata": {
        "id": "ZyoN75Kf335k"
      }
    },
    {
      "cell_type": "code",
      "source": [
        "class Model(nn.Module):\n",
        "  pass"
      ],
      "metadata": {
        "id": "1OUvIFQK3uA5"
      },
      "execution_count": 12,
      "outputs": []
    },
    {
      "cell_type": "code",
      "source": [],
      "metadata": {
        "id": "z0ncz7mf4Tdv"
      },
      "execution_count": null,
      "outputs": []
    }
  ]
}