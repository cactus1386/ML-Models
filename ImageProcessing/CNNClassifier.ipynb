{
  "nbformat": 4,
  "nbformat_minor": 0,
  "metadata": {
    "colab": {
      "provenance": [],
      "gpuType": "T4"
    },
    "kernelspec": {
      "name": "python3",
      "display_name": "Python 3"
    },
    "language_info": {
      "name": "python"
    },
    "accelerator": "GPU"
  },
  "cells": [
    {
      "cell_type": "markdown",
      "source": [
        "# Import libraries"
      ],
      "metadata": {
        "id": "APdTe4oPDaNV"
      }
    },
    {
      "cell_type": "code",
      "source": [
        "from torchvision import transforms, datasets\n",
        "import torchvision\n",
        "import torch\n",
        "import torch.nn as nn\n",
        "from PIL import Image\n",
        "from torch.utils.data import Dataset, DataLoader\n",
        "from torchvision.datasets import ImageFolder"
      ],
      "metadata": {
        "id": "mgPtI2NUDZvK"
      },
      "execution_count": 1,
      "outputs": []
    },
    {
      "cell_type": "code",
      "source": [
        "device = torch.device(\"cuda\" if torch.cuda.is_available() else \"cpu\")"
      ],
      "metadata": {
        "id": "1KJyPVL20O88"
      },
      "execution_count": 23,
      "outputs": []
    },
    {
      "cell_type": "markdown",
      "source": [
        "# 1. Choose and download dataset"
      ],
      "metadata": {
        "id": "gleMkxoZ-60t"
      }
    },
    {
      "cell_type": "code",
      "source": [
        "from google.colab import drive\n",
        "drive.mount('/content/drive')"
      ],
      "metadata": {
        "colab": {
          "base_uri": "https://localhost:8080/"
        },
        "id": "RyG9AtOf-zV8",
        "outputId": "4b3c624b-c8ef-4fec-e29e-a9bcc1c17aa0"
      },
      "execution_count": 2,
      "outputs": [
        {
          "output_type": "stream",
          "name": "stdout",
          "text": [
            "Drive already mounted at /content/drive; to attempt to forcibly remount, call drive.mount(\"/content/drive\", force_remount=True).\n"
          ]
        }
      ]
    },
    {
      "cell_type": "code",
      "source": [
        "import kagglehub\n",
        "\n",
        "data = kagglehub.dataset_download(\"gpiosenka/cards-image-datasetclassification\")\n",
        "\n",
        "print(\"Path to dataset files:\", data)"
      ],
      "metadata": {
        "colab": {
          "base_uri": "https://localhost:8080/"
        },
        "id": "9O-KkPxhAcwQ",
        "outputId": "3fb6d679-422d-40f6-84f2-b8b0b19010dc"
      },
      "execution_count": 11,
      "outputs": [
        {
          "output_type": "stream",
          "name": "stdout",
          "text": [
            "Path to dataset files: /kaggle/input/cards-image-datasetclassification\n"
          ]
        }
      ]
    },
    {
      "cell_type": "markdown",
      "source": [
        "# 2. Dataset preproccessing"
      ],
      "metadata": {
        "id": "kiCbfvEEFYld"
      }
    },
    {
      "cell_type": "code",
      "source": [
        "transform = transforms.Compose([\n",
        "    transforms.Resize((128, 128)),\n",
        "    transforms.RandomHorizontalFlip(p=0.3),\n",
        "    transforms.ToTensor(),\n",
        "    transforms.Normalize((0.5,) , (0.5,))\n",
        "])"
      ],
      "metadata": {
        "id": "cx62UfP9Bivm"
      },
      "execution_count": 4,
      "outputs": []
    },
    {
      "cell_type": "code",
      "source": [
        "train_path = '/kaggle/input/cards-image-datasetclassification/train'\n",
        "test_path = \"/kaggle/input/cards-image-datasetclassification/test\""
      ],
      "metadata": {
        "id": "YIQw57d91Qcd"
      },
      "execution_count": 8,
      "outputs": []
    },
    {
      "cell_type": "code",
      "source": [
        "train = ImageFolder(train_path, transform=transform)\n",
        "test = ImageFolder(test_path, transform=transform)\n",
        "classes = train.classes\n",
        "classes"
      ],
      "metadata": {
        "colab": {
          "base_uri": "https://localhost:8080/"
        },
        "collapsed": true,
        "id": "iFNnMco41ryu",
        "outputId": "72ad7aee-c461-458f-fc4e-4315e481b20f"
      },
      "execution_count": 12,
      "outputs": [
        {
          "output_type": "execute_result",
          "data": {
            "text/plain": [
              "['ace of clubs',\n",
              " 'ace of diamonds',\n",
              " 'ace of hearts',\n",
              " 'ace of spades',\n",
              " 'eight of clubs',\n",
              " 'eight of diamonds',\n",
              " 'eight of hearts',\n",
              " 'eight of spades',\n",
              " 'five of clubs',\n",
              " 'five of diamonds',\n",
              " 'five of hearts',\n",
              " 'five of spades',\n",
              " 'four of clubs',\n",
              " 'four of diamonds',\n",
              " 'four of hearts',\n",
              " 'four of spades',\n",
              " 'jack of clubs',\n",
              " 'jack of diamonds',\n",
              " 'jack of hearts',\n",
              " 'jack of spades',\n",
              " 'joker',\n",
              " 'king of clubs',\n",
              " 'king of diamonds',\n",
              " 'king of hearts',\n",
              " 'king of spades',\n",
              " 'nine of clubs',\n",
              " 'nine of diamonds',\n",
              " 'nine of hearts',\n",
              " 'nine of spades',\n",
              " 'queen of clubs',\n",
              " 'queen of diamonds',\n",
              " 'queen of hearts',\n",
              " 'queen of spades',\n",
              " 'seven of clubs',\n",
              " 'seven of diamonds',\n",
              " 'seven of hearts',\n",
              " 'seven of spades',\n",
              " 'six of clubs',\n",
              " 'six of diamonds',\n",
              " 'six of hearts',\n",
              " 'six of spades',\n",
              " 'ten of clubs',\n",
              " 'ten of diamonds',\n",
              " 'ten of hearts',\n",
              " 'ten of spades',\n",
              " 'three of clubs',\n",
              " 'three of diamonds',\n",
              " 'three of hearts',\n",
              " 'three of spades',\n",
              " 'two of clubs',\n",
              " 'two of diamonds',\n",
              " 'two of hearts',\n",
              " 'two of spades']"
            ]
          },
          "metadata": {},
          "execution_count": 12
        }
      ]
    },
    {
      "cell_type": "code",
      "source": [
        "train_loader = DataLoader(train, batch_size=32, shuffle=True)\n",
        "test_loader = DataLoader(test, batch_size=32, shuffle=False)\n",
        "for img, label in train_loader:\n",
        "    break\n",
        "img.shape"
      ],
      "metadata": {
        "colab": {
          "base_uri": "https://localhost:8080/"
        },
        "id": "FycJ5U982gqE",
        "outputId": "c58f4fd4-90e4-458c-b4e6-8f236fea756c"
      },
      "execution_count": 13,
      "outputs": [
        {
          "output_type": "execute_result",
          "data": {
            "text/plain": [
              "torch.Size([32, 3, 128, 128])"
            ]
          },
          "metadata": {},
          "execution_count": 13
        }
      ]
    },
    {
      "cell_type": "markdown",
      "source": [
        "# 3. Create Neural Network"
      ],
      "metadata": {
        "id": "ZyoN75Kf335k"
      }
    },
    {
      "cell_type": "code",
      "source": [
        "class Model(nn.Module):\n",
        "  def __init__(self, output_shape):\n",
        "    super().__init__()\n",
        "    self.layer1 = nn.Sequential(\n",
        "        nn.Conv2d(in_channels=3, out_channels=10, kernel_size=3, stride=1),\n",
        "        nn.BatchNorm2d(10),\n",
        "        nn.ReLU(),\n",
        "        nn.MaxPool2d(kernel_size=2, stride=2)\n",
        "    )\n",
        "\n",
        "    self.layer2 = nn.Sequential(\n",
        "        nn.Conv2d(in_channels=10, out_channels=30, kernel_size=3),\n",
        "        nn.BatchNorm2d(30),\n",
        "        nn.ReLU(),\n",
        "        nn.MaxPool2d(kernel_size=2, stride=2)\n",
        "    )\n",
        "\n",
        "    self.layer3 = nn.Sequential(\n",
        "        nn.Conv2d(in_channels=30, out_channels=60, kernel_size=3),\n",
        "        nn.BatchNorm2d(60),\n",
        "        nn.ReLU(),\n",
        "        nn.MaxPool2d(kernel_size=2, stride=2)\n",
        "    )\n",
        "    self.layer4 = nn.Sequential(\n",
        "        nn.Conv2d(in_channels=60, out_channels=100, kernel_size=3),\n",
        "        nn.BatchNorm2d(100),\n",
        "        nn.ReLU(),\n",
        "        nn.MaxPool2d(kernel_size=2, stride=2)\n",
        "    )\n",
        "\n",
        "    self.classifier = nn.Sequential(\n",
        "        nn.Flatten(),\n",
        "        nn.Dropout(0.5),\n",
        "        nn.Linear(in_features=3600, out_features=output_shape)\n",
        "    )\n",
        "\n",
        "  def forward(self, x):\n",
        "    return self.classifier(self.layer4(self.layer3(self.layer2(self.layer1(x)))))"
      ],
      "metadata": {
        "id": "1OUvIFQK3uA5"
      },
      "execution_count": 15,
      "outputs": []
    },
    {
      "cell_type": "code",
      "source": [
        "torch.manual_seed(42)\n",
        "model = Model(len(classes)).to(device)"
      ],
      "metadata": {
        "id": "z0ncz7mf4Tdv"
      },
      "execution_count": 24,
      "outputs": []
    },
    {
      "cell_type": "code",
      "source": [
        "image_batch, label_batch = next(iter(train_loader))\n",
        "image_batch = image_batch.to(device)\n",
        "model(image_batch)"
      ],
      "metadata": {
        "colab": {
          "base_uri": "https://localhost:8080/"
        },
        "id": "uqtE6wUVzpJh",
        "outputId": "129334d8-9b57-4889-e7a3-d7fb7ce5f316"
      },
      "execution_count": 25,
      "outputs": [
        {
          "output_type": "execute_result",
          "data": {
            "text/plain": [
              "tensor([[-0.8565,  0.2473,  0.0395,  ...,  0.2567, -0.4270, -0.1690],\n",
              "        [-1.5922,  0.9658,  0.4212,  ...,  2.3735, -0.5131,  1.4405],\n",
              "        [ 0.9280,  0.3304,  2.0421,  ...,  2.1693, -2.8649, -1.2913],\n",
              "        ...,\n",
              "        [-0.6523,  0.4379,  1.3453,  ...,  0.4988, -1.2762,  1.0210],\n",
              "        [-0.4801, -0.8914, -1.0964,  ..., -0.0391, -0.4271, -0.3809],\n",
              "        [-0.8985,  0.1057,  2.0531,  ...,  1.4649,  0.5224,  0.3925]],\n",
              "       device='cuda:0', grad_fn=<AddmmBackward0>)"
            ]
          },
          "metadata": {},
          "execution_count": 25
        }
      ]
    },
    {
      "cell_type": "code",
      "source": [
        "try :import torchinfo\n",
        "except:\n",
        "  !pip install torchinfo\n",
        "  import torchinfo\n",
        "from torchinfo import summary\n",
        "\n",
        "summary(model , input_size=(1,3,128,128))"
      ],
      "metadata": {
        "colab": {
          "base_uri": "https://localhost:8080/"
        },
        "id": "sipdGZpSzwnS",
        "outputId": "fdde979d-b0f4-4e26-e282-14fbbcfba032"
      },
      "execution_count": 28,
      "outputs": [
        {
          "output_type": "execute_result",
          "data": {
            "text/plain": [
              "==========================================================================================\n",
              "Layer (type:depth-idx)                   Output Shape              Param #\n",
              "==========================================================================================\n",
              "Model                                    [1, 53]                   --\n",
              "├─Sequential: 1-1                        [1, 10, 63, 63]           --\n",
              "│    └─Conv2d: 2-1                       [1, 10, 126, 126]         280\n",
              "│    └─BatchNorm2d: 2-2                  [1, 10, 126, 126]         20\n",
              "│    └─ReLU: 2-3                         [1, 10, 126, 126]         --\n",
              "│    └─MaxPool2d: 2-4                    [1, 10, 63, 63]           --\n",
              "├─Sequential: 1-2                        [1, 30, 30, 30]           --\n",
              "│    └─Conv2d: 2-5                       [1, 30, 61, 61]           2,730\n",
              "│    └─BatchNorm2d: 2-6                  [1, 30, 61, 61]           60\n",
              "│    └─ReLU: 2-7                         [1, 30, 61, 61]           --\n",
              "│    └─MaxPool2d: 2-8                    [1, 30, 30, 30]           --\n",
              "├─Sequential: 1-3                        [1, 60, 14, 14]           --\n",
              "│    └─Conv2d: 2-9                       [1, 60, 28, 28]           16,260\n",
              "│    └─BatchNorm2d: 2-10                 [1, 60, 28, 28]           120\n",
              "│    └─ReLU: 2-11                        [1, 60, 28, 28]           --\n",
              "│    └─MaxPool2d: 2-12                   [1, 60, 14, 14]           --\n",
              "├─Sequential: 1-4                        [1, 100, 6, 6]            --\n",
              "│    └─Conv2d: 2-13                      [1, 100, 12, 12]          54,100\n",
              "│    └─BatchNorm2d: 2-14                 [1, 100, 12, 12]          200\n",
              "│    └─ReLU: 2-15                        [1, 100, 12, 12]          --\n",
              "│    └─MaxPool2d: 2-16                   [1, 100, 6, 6]            --\n",
              "├─Sequential: 1-5                        [1, 53]                   --\n",
              "│    └─Flatten: 2-17                     [1, 3600]                 --\n",
              "│    └─Dropout: 2-18                     [1, 3600]                 --\n",
              "│    └─Linear: 2-19                      [1, 53]                   190,853\n",
              "==========================================================================================\n",
              "Total params: 264,623\n",
              "Trainable params: 264,623\n",
              "Non-trainable params: 0\n",
              "Total mult-adds (Units.MEGABYTES): 35.33\n",
              "==========================================================================================\n",
              "Input size (MB): 0.20\n",
              "Forward/backward pass size (MB): 5.31\n",
              "Params size (MB): 1.06\n",
              "Estimated Total Size (MB): 6.56\n",
              "=========================================================================================="
            ]
          },
          "metadata": {},
          "execution_count": 28
        }
      ]
    },
    {
      "cell_type": "code",
      "source": [],
      "metadata": {
        "id": "yv0rB2TZ0gPB"
      },
      "execution_count": null,
      "outputs": []
    }
  ]
}