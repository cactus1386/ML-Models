{
  "nbformat": 4,
  "nbformat_minor": 0,
  "metadata": {
    "colab": {
      "provenance": [],
      "gpuType": "T4"
    },
    "kernelspec": {
      "name": "python3",
      "display_name": "Python 3"
    },
    "language_info": {
      "name": "python"
    },
    "accelerator": "GPU"
  },
  "cells": [
    {
      "cell_type": "code",
      "execution_count": 1,
      "metadata": {
        "id": "pSbl90MVIkg-"
      },
      "outputs": [],
      "source": [
        "import torch\n",
        "import torch.nn as nn\n",
        "import torch.optim as optim\n",
        "from torchvision import datasets, transforms\n",
        "from torch.utils.data import DataLoader, Subset\n",
        "import matplotlib.pyplot as plt"
      ]
    },
    {
      "cell_type": "code",
      "source": [
        "batch_size = 64\n",
        "z_dim = 100\n",
        "\n",
        "transform = transforms.Compose([\n",
        "    transforms.ToTensor(),\n",
        "    transforms.Normalize((0.5,), (0.5,))\n",
        "])\n",
        "\n",
        "\n",
        "mnist = datasets.MNIST(root='/content/sample_data', train=True, download=True, transform=transform)\n",
        "dataloader = DataLoader(mnist, batch_size=batch_size, shuffle=True)"
      ],
      "metadata": {
        "colab": {
          "base_uri": "https://localhost:8080/"
        },
        "id": "-mPTgiBIMr8e",
        "outputId": "f06c7dcc-a5a7-4a1c-a44b-5853b4e6c2fb"
      },
      "execution_count": 2,
      "outputs": [
        {
          "output_type": "stream",
          "name": "stderr",
          "text": [
            "100%|██████████| 9.91M/9.91M [00:11<00:00, 895kB/s] \n",
            "100%|██████████| 28.9k/28.9k [00:00<00:00, 134kB/s]\n",
            "100%|██████████| 1.65M/1.65M [00:06<00:00, 242kB/s]\n",
            "100%|██████████| 4.54k/4.54k [00:00<00:00, 6.04MB/s]\n"
          ]
        }
      ]
    },
    {
      "cell_type": "code",
      "source": [
        "class Generator(nn.Module):\n",
        "  def __init__(self, z_dim):\n",
        "    super(Generator, self).__init__()\n",
        "    self.model = nn.Sequential(\n",
        "        nn.Linear(z_dim, 256),\n",
        "        nn.ReLU(),\n",
        "        nn.Linear(256, 512),\n",
        "        nn.ReLU(),\n",
        "        nn.Linear(512, 1028),\n",
        "        nn.ReLU(),\n",
        "        nn.Linear(1028, 28 * 28),\n",
        "        nn.Tanh()\n",
        "    )\n",
        "\n",
        "  def forward(self, z):\n",
        "    return self.model(z).view(-1, 1, 28, 28)"
      ],
      "metadata": {
        "id": "u-lTDR2TOyf2"
      },
      "execution_count": 3,
      "outputs": []
    },
    {
      "cell_type": "code",
      "source": [
        "class Discriminator(nn.Module):\n",
        "  def __init__(self):\n",
        "    super(Discriminator, self).__init__()\n",
        "    self.model = nn.Sequential(\n",
        "        nn.Linear(28 * 28, 1024),\n",
        "        nn.LeakyReLU(0.2),\n",
        "        nn.Dropout(0.3),\n",
        "        nn.Linear(1024, 512),\n",
        "        nn.LeakyReLU(0.2),\n",
        "        nn.Dropout(0.3),\n",
        "        nn.Linear(512, 256),\n",
        "        nn.LeakyReLU(0.2),\n",
        "        nn.Dropout(0.3),\n",
        "        nn.Linear(256, 1),\n",
        "        nn.Sigmoid()\n",
        "    )\n",
        "\n",
        "  def forward(self, x):\n",
        "    return self.model(x.view(-1, 28 * 28))"
      ],
      "metadata": {
        "id": "3PicrYypWyV9"
      },
      "execution_count": 4,
      "outputs": []
    },
    {
      "cell_type": "code",
      "source": [
        "G = Generator(z_dim)\n",
        "D = Discriminator()"
      ],
      "metadata": {
        "id": "x6N_LQVBZ4qs"
      },
      "execution_count": 5,
      "outputs": []
    },
    {
      "cell_type": "code",
      "source": [
        "criterion = nn.BCELoss()\n",
        "optim_g = optim.Adam(G.parameters(), lr=0.0002)\n",
        "optim_d = optim.Adam(D.parameters(), lr=0.0002)"
      ],
      "metadata": {
        "id": "-wmqdA4saQM6"
      },
      "execution_count": 6,
      "outputs": []
    },
    {
      "cell_type": "code",
      "source": [
        "epochs = 50\n",
        "for epoch in range(epochs):\n",
        "    for i, (real_images, _) in enumerate(dataloader):\n",
        "        real_images = real_images\n",
        "        batch_size = real_images.size(0)\n",
        "\n",
        "        real_labels = torch.ones(batch_size, 1)\n",
        "        fake_labels = torch.zeros(batch_size, 1)\n",
        "\n",
        "        z = torch.randn(batch_size, z_dim)\n",
        "        fake_images = G(z)\n",
        "\n",
        "        D_real = D(real_images)\n",
        "        D_fake = D(fake_images.detach())\n",
        "\n",
        "        D_loss = criterion(D_real, real_labels) + criterion(D_fake, fake_labels)\n",
        "\n",
        "        optim_d.zero_grad()\n",
        "        D_loss.backward()\n",
        "        optim_d.step()\n",
        "\n",
        "        z = torch.randn(batch_size, z_dim)\n",
        "        fake_images = G(z)\n",
        "        D_fake_for_G = D(fake_images)\n",
        "\n",
        "        g_loss = criterion(D_fake_for_G, real_labels)\n",
        "\n",
        "        optim_g.zero_grad()\n",
        "        g_loss.backward()\n",
        "        optim_g.step()\n",
        "\n",
        "    print(f'Epoch [{epoch + 1}/{epochs}] - D loss: {D_loss.item():.3f} - G loss: {g_loss.item():.3f}')"
      ],
      "metadata": {
        "colab": {
          "base_uri": "https://localhost:8080/"
        },
        "collapsed": true,
        "id": "V-nVNkvua63T",
        "outputId": "2aad6ced-1211-47e9-faed-bf9dd61b4799"
      },
      "execution_count": null,
      "outputs": [
        {
          "output_type": "stream",
          "name": "stdout",
          "text": [
            "Epoch [1/50] - D loss: 0.552 - G loss: 1.982\n",
            "Epoch [2/50] - D loss: 0.945 - G loss: 0.931\n",
            "Epoch [3/50] - D loss: 0.194 - G loss: 3.215\n",
            "Epoch [4/50] - D loss: 0.262 - G loss: 1.942\n",
            "Epoch [5/50] - D loss: 0.388 - G loss: 3.259\n",
            "Epoch [6/50] - D loss: 0.166 - G loss: 4.921\n",
            "Epoch [7/50] - D loss: 0.299 - G loss: 2.763\n",
            "Epoch [8/50] - D loss: 0.362 - G loss: 1.995\n",
            "Epoch [9/50] - D loss: 0.161 - G loss: 3.156\n",
            "Epoch [10/50] - D loss: 0.453 - G loss: 3.585\n",
            "Epoch [11/50] - D loss: 0.539 - G loss: 2.770\n",
            "Epoch [12/50] - D loss: 0.498 - G loss: 2.767\n",
            "Epoch [13/50] - D loss: 0.656 - G loss: 1.886\n"
          ]
        }
      ]
    },
    {
      "cell_type": "code",
      "source": [
        "G.eval()\n",
        "with torch.no_grad():\n",
        "  z = torch.randn(16, z_dim)\n",
        "  samples = G(z)\n",
        "  samples = (samples + 1) / 2\n",
        "\n",
        "  fig, axes = plt.subplots(4, 4, figsize=(6, 6))\n",
        "  for i, ax in enumerate(axes.flat):\n",
        "    ax.imshow(samples[i, 0], cmap='gray')\n",
        "    ax.axis('off')\n",
        "\n",
        "  plt.show()"
      ],
      "metadata": {
        "id": "Na7hPsg7bMz8"
      },
      "execution_count": null,
      "outputs": []
    }
  ]
}