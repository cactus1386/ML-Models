{
 "cells": [
  {
   "cell_type": "code",
   "execution_count": null,
   "metadata": {},
   "outputs": [],
   "source": [
    "class Tokenizer():\n",
    "  def __init__(self):\n",
    "    self.words = [\n",
    "        \"<bos>\",\n",
    "        \"<eos>\",\n",
    "        \"<pad>\",\n",
    "        \"<unk>\",\n",
    "        \"سلام\",\n",
    "        \"چطوری\",\n",
    "        \"فداتشم\",\n",
    "        \"بدی\",\n",
    "        \"خوبی\",\n",
    "        \"فعلا\",\n",
    "        \"چخبرا\"\n",
    "    ]\n",
    "    \n",
    "    self.indexs = {\n",
    "        word: id for id, word in enumerate(self.words)\n",
    "    }\n",
    "\n",
    "  def id_to_word(self, indexs: list[int]) -> str:\n",
    "    pass\n",
    "\n",
    "  def word_to_id(self, sentence: str) -> list[int]:\n",
    "    pass\n"
   ]
  }
 ],
 "metadata": {
  "kernelspec": {
   "display_name": "env",
   "language": "python",
   "name": "python3"
  },
  "language_info": {
   "name": "python",
   "version": "3.11.4"
  }
 },
 "nbformat": 4,
 "nbformat_minor": 2
}
